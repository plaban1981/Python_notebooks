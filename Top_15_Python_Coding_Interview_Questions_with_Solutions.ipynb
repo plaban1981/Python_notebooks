{
  "nbformat": 4,
  "nbformat_minor": 0,
  "metadata": {
    "colab": {
      "name": "Top 15 Python Coding Interview Questions with Solutions.ipynb",
      "provenance": [],
      "toc_visible": true,
      "authorship_tag": "ABX9TyPf9/f20lE1+11uMCyxY0jw",
      "include_colab_link": true
    },
    "kernelspec": {
      "name": "python3",
      "display_name": "Python 3"
    },
    "language_info": {
      "name": "python"
    }
  },
  "cells": [
    {
      "cell_type": "markdown",
      "metadata": {
        "id": "view-in-github",
        "colab_type": "text"
      },
      "source": [
        "<a href=\"https://colab.research.google.com/github/plaban1981/Python_notebooks/blob/master/Top_15_Python_Coding_Interview_Questions_with_Solutions.ipynb\" target=\"_parent\"><img src=\"https://colab.research.google.com/assets/colab-badge.svg\" alt=\"Open In Colab\"/></a>"
      ]
    },
    {
      "cell_type": "markdown",
      "metadata": {
        "id": "Q6bC_gCo6E1x"
      },
      "source": [
        "## 1. Write a Python Program to print Prime Numbers between 2 numbers"
      ]
    },
    {
      "cell_type": "code",
      "metadata": {
        "colab": {
          "base_uri": "https://localhost:8080/"
        },
        "id": "t786FnwD6BZj",
        "outputId": "3336d6f7-ca02-4837-d2df-af891bb1dedc"
      },
      "source": [
        "for num in range(10,30):\n",
        "  if all(num % i !=0 for i in range(2,num)):\n",
        "    print(num)"
      ],
      "execution_count": 1,
      "outputs": [
        {
          "output_type": "stream",
          "text": [
            "11\n",
            "13\n",
            "17\n",
            "19\n",
            "23\n",
            "29\n"
          ],
          "name": "stdout"
        }
      ]
    },
    {
      "cell_type": "markdown",
      "metadata": {
        "id": "wPIGL0166tt6"
      },
      "source": [
        "## 2. Write a Sort function to sort the elements in a list"
      ]
    },
    {
      "cell_type": "code",
      "metadata": {
        "colab": {
          "base_uri": "https://localhost:8080/"
        },
        "id": "j1dDYc4j6wmh",
        "outputId": "9a71730f-0db4-4782-d01b-0f060d4fdaaf"
      },
      "source": [
        "l = [10,11,3,4,7,99,2]\n",
        "l.sort(reverse=True)\n",
        "l"
      ],
      "execution_count": 4,
      "outputs": [
        {
          "output_type": "execute_result",
          "data": {
            "text/plain": [
              "[99, 11, 10, 7, 4, 3, 2]"
            ]
          },
          "metadata": {
            "tags": []
          },
          "execution_count": 4
        }
      ]
    },
    {
      "cell_type": "markdown",
      "metadata": {
        "id": "sibzu0zX7Ed5"
      },
      "source": [
        "## 3. Write a sorting function without using the list.sort function"
      ]
    },
    {
      "cell_type": "code",
      "metadata": {
        "colab": {
          "base_uri": "https://localhost:8080/"
        },
        "id": "TVUOel3k66l4",
        "outputId": "ec26b779-71f6-448a-b3ec-757962213dec"
      },
      "source": [
        "l = [10,11,3,4,7,99,2]\n",
        "new_list = []\n",
        "while l:\n",
        "  min = l[0]\n",
        "  for x in l:\n",
        "    if x > min:\n",
        "      min =x\n",
        "  new_list.append(min)\n",
        "  l.remove(min)\n",
        "print(new_list)"
      ],
      "execution_count": 5,
      "outputs": [
        {
          "output_type": "stream",
          "text": [
            "[99, 11, 10, 7, 4, 3, 2]\n"
          ],
          "name": "stdout"
        }
      ]
    },
    {
      "cell_type": "markdown",
      "metadata": {
        "id": "v5ocKLHwEdH0"
      },
      "source": [
        "##4. Write a Python program to print Fibonacci Series"
      ]
    },
    {
      "cell_type": "code",
      "metadata": {
        "colab": {
          "base_uri": "https://localhost:8080/"
        },
        "id": "1uQ2ldfyEed8",
        "outputId": "55a5daac-ee92-47a9-f9fe-58416aa82fbf"
      },
      "source": [
        "def F(n):\n",
        "  if n == 0 :\n",
        "    return 0\n",
        "  elif n == 1:\n",
        "    return 1\n",
        "  else:\n",
        "    return F(n-1) + F(n-2)\n",
        "for i in range(0,13):\n",
        "  print(F(i))"
      ],
      "execution_count": 6,
      "outputs": [
        {
          "output_type": "stream",
          "text": [
            "0\n",
            "1\n",
            "1\n",
            "2\n",
            "3\n",
            "5\n",
            "8\n",
            "13\n",
            "21\n",
            "34\n",
            "55\n",
            "89\n",
            "144\n"
          ],
          "name": "stdout"
        }
      ]
    },
    {
      "cell_type": "markdown",
      "metadata": {
        "id": "fnrg4x3bE_BC"
      },
      "source": [
        "## 5. Write a Python program to print a list in reverse"
      ]
    },
    {
      "cell_type": "code",
      "metadata": {
        "colab": {
          "base_uri": "https://localhost:8080/"
        },
        "id": "mjtYa_tdE__6",
        "outputId": "cc5803a8-7b22-4fa4-daf0-d8da0b70428b"
      },
      "source": [
        "list1 = [1,2,88,99,100,6,5]\n",
        "list1[::-1]\n"
      ],
      "execution_count": 7,
      "outputs": [
        {
          "output_type": "execute_result",
          "data": {
            "text/plain": [
              "[5, 6, 100, 99, 88, 2, 1]"
            ]
          },
          "metadata": {
            "tags": []
          },
          "execution_count": 7
        }
      ]
    },
    {
      "cell_type": "markdown",
      "metadata": {
        "id": "Gy0MLCpXFNug"
      },
      "source": [
        "## 6. Write a Python program to check whether a string is a Palindrome or not "
      ]
    },
    {
      "cell_type": "code",
      "metadata": {
        "colab": {
          "base_uri": "https://localhost:8080/"
        },
        "id": "w-tu0e5HFH35",
        "outputId": "ba1da1af-66cc-4ef9-d027-b842fe107e36"
      },
      "source": [
        "def isPalindrome(str1):\n",
        "  if str1 == str1[::-1]:\n",
        "    return True\n",
        "  else:\n",
        "    return False\n",
        "isPalindrome('madam')"
      ],
      "execution_count": 8,
      "outputs": [
        {
          "output_type": "execute_result",
          "data": {
            "text/plain": [
              "True"
            ]
          },
          "metadata": {
            "tags": []
          },
          "execution_count": 8
        }
      ]
    },
    {
      "cell_type": "code",
      "metadata": {
        "colab": {
          "base_uri": "https://localhost:8080/"
        },
        "id": "enC4HpLGFiTH",
        "outputId": "c2ef3291-9173-46f5-9b4e-952d6b5fc6e4"
      },
      "source": [
        "isPalindrome('plaban')"
      ],
      "execution_count": 9,
      "outputs": [
        {
          "output_type": "execute_result",
          "data": {
            "text/plain": [
              "False"
            ]
          },
          "metadata": {
            "tags": []
          },
          "execution_count": 9
        }
      ]
    },
    {
      "cell_type": "markdown",
      "metadata": {
        "id": "U9z7f3uTF6ue"
      },
      "source": [
        "## 7. Write a Python program to print set of duplicates in a list"
      ]
    },
    {
      "cell_type": "code",
      "metadata": {
        "colab": {
          "base_uri": "https://localhost:8080/"
        },
        "id": "P7DKi95NFlOv",
        "outputId": "feab9cb0-6d34-472d-9d61-cd2fd3fa89b6"
      },
      "source": [
        "list1 = [1,2,2,3,4,7,7,8]\n",
        "dups = set([ i for i in list1 if list1.count(i) > 1])\n",
        "dups"
      ],
      "execution_count": 11,
      "outputs": [
        {
          "output_type": "execute_result",
          "data": {
            "text/plain": [
              "{2, 7}"
            ]
          },
          "metadata": {
            "tags": []
          },
          "execution_count": 11
        }
      ]
    },
    {
      "cell_type": "markdown",
      "metadata": {
        "id": "9w-0VioSKBsy"
      },
      "source": [
        "## 8. Write a Python program to print number of words in a given sentence"
      ]
    },
    {
      "cell_type": "code",
      "metadata": {
        "colab": {
          "base_uri": "https://localhost:8080/"
        },
        "id": "gqUNl7ALGNep",
        "outputId": "901d28cd-e7fa-4ed0-f579-4d77604c88b6"
      },
      "source": [
        "str1 = \"Today is a good Day\"\n",
        "len(str1.split(\" \"))"
      ],
      "execution_count": 12,
      "outputs": [
        {
          "output_type": "execute_result",
          "data": {
            "text/plain": [
              "5"
            ]
          },
          "metadata": {
            "tags": []
          },
          "execution_count": 12
        }
      ]
    },
    {
      "cell_type": "markdown",
      "metadata": {
        "id": "ZwLrvvCbK9Oo"
      },
      "source": [
        "## 9. Given an array arr[] of n elements, write a Python function to search a given element x in arr[]."
      ]
    },
    {
      "cell_type": "code",
      "metadata": {
        "colab": {
          "base_uri": "https://localhost:8080/"
        },
        "id": "jNkbVN6UK-Mw",
        "outputId": "81ea8baf-f451-4bce-f1f9-620c5e55add8"
      },
      "source": [
        "import numpy as np\n",
        "arr1 = np.array([1,10,3,5,6])\n",
        "def search_arr(arry,srch):\n",
        "  for i in range(len(arry)):\n",
        "    if arry[i] == srch:\n",
        "      return i\n",
        "  print(\"Number Not present\")\n",
        "\n",
        "search_arr(arr1,10)"
      ],
      "execution_count": 1,
      "outputs": [
        {
          "output_type": "execute_result",
          "data": {
            "text/plain": [
              "1"
            ]
          },
          "metadata": {
            "tags": []
          },
          "execution_count": 1
        }
      ]
    },
    {
      "cell_type": "code",
      "metadata": {
        "colab": {
          "base_uri": "https://localhost:8080/"
        },
        "id": "JWQfo47nNcSr",
        "outputId": "8932c08d-49b9-47b7-d9b6-9c1a661971e4"
      },
      "source": [
        "search_arr(arr1,100)"
      ],
      "execution_count": 2,
      "outputs": [
        {
          "output_type": "stream",
          "text": [
            "Number Not present\n"
          ],
          "name": "stdout"
        }
      ]
    },
    {
      "cell_type": "markdown",
      "metadata": {
        "id": "KGVQhVOZNwoC"
      },
      "source": [
        "## 10. Write a Python program to implement a Binary Search"
      ]
    },
    {
      "cell_type": "code",
      "metadata": {
        "id": "wuLrxVI6ehS2",
        "outputId": "f412999a-a99d-48c5-8053-5eb0f5d4b60a",
        "colab": {
          "base_uri": "https://localhost:8080/"
        }
      },
      "source": [
        "5 //2"
      ],
      "execution_count": 17,
      "outputs": [
        {
          "output_type": "execute_result",
          "data": {
            "text/plain": [
              "2"
            ]
          },
          "metadata": {
            "tags": []
          },
          "execution_count": 17
        }
      ]
    },
    {
      "cell_type": "code",
      "metadata": {
        "id": "gLtdLp2gNrJX"
      },
      "source": [
        "def BinarySearch(arr,target):\n",
        "  indx = len(arr)//2\n",
        "  val1 = arr[:indx]\n",
        "  val2 = arr[indx:]\n",
        "  for i in range(len(val1)):\n",
        "      if target == val1[i]:\n",
        "        return i\n",
        "  for i in range(len(val2)):\n",
        "      if target == val2[i]:\n",
        "        return i + len(val1)"
      ],
      "execution_count": 36,
      "outputs": []
    },
    {
      "cell_type": "code",
      "metadata": {
        "id": "RDMDqb1ePS_7",
        "outputId": "ae7ee429-5385-4642-e2d6-d064ab6f3ce9",
        "colab": {
          "base_uri": "https://localhost:8080/"
        }
      },
      "source": [
        "BinarySearch(arr1,6)"
      ],
      "execution_count": 37,
      "outputs": [
        {
          "output_type": "execute_result",
          "data": {
            "text/plain": [
              "4"
            ]
          },
          "metadata": {
            "tags": []
          },
          "execution_count": 37
        }
      ]
    },
    {
      "cell_type": "markdown",
      "metadata": {
        "id": "WAUDXY-BbSMz"
      },
      "source": [
        "## 12. Write a Python program to join two strings (Hint: using join())"
      ]
    },
    {
      "cell_type": "code",
      "metadata": {
        "id": "Z6TJYCfjbTpc"
      },
      "source": [
        "str1 = \"Plaban\"\n",
        "str2 = \"Nayak\"\n",
        "join_str = \" \".join((str1,str2))"
      ],
      "execution_count": 38,
      "outputs": []
    },
    {
      "cell_type": "code",
      "metadata": {
        "id": "cFOahTqbiLOK",
        "outputId": "c51917ff-db6b-45ea-c7cc-fe342c587a5d",
        "colab": {
          "base_uri": "https://localhost:8080/",
          "height": 35
        }
      },
      "source": [
        "join_str"
      ],
      "execution_count": 39,
      "outputs": [
        {
          "output_type": "execute_result",
          "data": {
            "application/vnd.google.colaboratory.intrinsic+json": {
              "type": "string"
            },
            "text/plain": [
              "'Plaban Nayak'"
            ]
          },
          "metadata": {
            "tags": []
          },
          "execution_count": 39
        }
      ]
    },
    {
      "cell_type": "markdown",
      "metadata": {
        "id": "BgbPIE6_k2Iu"
      },
      "source": [
        "##13. Write a Python program to extract digits from given string"
      ]
    },
    {
      "cell_type": "code",
      "metadata": {
        "id": "Tve-98lilCKL"
      },
      "source": [
        "str1 = \"1yerst456$89\"\n",
        "digits = \" \".join([i for i in str1 if i.isdigit()])"
      ],
      "execution_count": 44,
      "outputs": []
    },
    {
      "cell_type": "code",
      "metadata": {
        "id": "edqYhj7smHWF",
        "outputId": "e324122b-592a-4040-f162-307a848a8344",
        "colab": {
          "base_uri": "https://localhost:8080/",
          "height": 35
        }
      },
      "source": [
        "digits"
      ],
      "execution_count": 45,
      "outputs": [
        {
          "output_type": "execute_result",
          "data": {
            "application/vnd.google.colaboratory.intrinsic+json": {
              "type": "string"
            },
            "text/plain": [
              "'1 4 5 6 8 9'"
            ]
          },
          "metadata": {
            "tags": []
          },
          "execution_count": 45
        }
      ]
    },
    {
      "cell_type": "markdown",
      "metadata": {
        "id": "7pDanldWnS4i"
      },
      "source": [
        "## 14. Write a Python program to split strings using newline delimiter"
      ]
    },
    {
      "cell_type": "code",
      "metadata": {
        "id": "prKxBJPjnZi2",
        "outputId": "1aeee756-8756-4a26-d3ed-6c4c2acef708",
        "colab": {
          "base_uri": "https://localhost:8080/"
        }
      },
      "source": [
        "str1 = \"Example to solve problem 14\"\n",
        "str1.split(\" \")"
      ],
      "execution_count": 47,
      "outputs": [
        {
          "output_type": "execute_result",
          "data": {
            "text/plain": [
              "['Example', 'to', 'solve', 'problem', '14']"
            ]
          },
          "metadata": {
            "tags": []
          },
          "execution_count": 47
        }
      ]
    },
    {
      "cell_type": "markdown",
      "metadata": {
        "id": "Qg465pUunpHL"
      },
      "source": [
        "## 15. Given a string as your input, delete any reoccurring character, and return the new string."
      ]
    },
    {
      "cell_type": "code",
      "metadata": {
        "id": "-OBOaN-5nrPr",
        "outputId": "7af98e1e-d1bb-41c5-acc0-4bba7f4f8fb4",
        "colab": {
          "base_uri": "https://localhost:8080/",
          "height": 35
        }
      },
      "source": [
        "def  DelRecurringCharacters(strngs):\n",
        "  setchars = set()\n",
        "  outputstr = \" \"\n",
        "  for char in strngs:\n",
        "    if char not in setchars:\n",
        "      setchars.add(char)\n",
        "      outputstr += char\n",
        "  return outputstr\n",
        "DelRecurringCharacters('missisipi')"
      ],
      "execution_count": 57,
      "outputs": [
        {
          "output_type": "execute_result",
          "data": {
            "application/vnd.google.colaboratory.intrinsic+json": {
              "type": "string"
            },
            "text/plain": [
              "' misp'"
            ]
          },
          "metadata": {
            "tags": []
          },
          "execution_count": 57
        }
      ]
    },
    {
      "cell_type": "markdown",
      "metadata": {
        "id": "hsk2G1E_xYkT"
      },
      "source": [
        "## Solving Coding Interview Questions in Python on LeetCode (easy & medium problems)"
      ]
    },
    {
      "cell_type": "markdown",
      "metadata": {
        "id": "aZB8djbBzIbV"
      },
      "source": [
        "https://www.youtube.com/watch?v=qnSF8YaPx78"
      ]
    },
    {
      "cell_type": "markdown",
      "metadata": {
        "id": "LoeRzMimxdUr"
      },
      "source": [
        "* **Goal Parser Interpretation**\n",
        "\n",
        "You own a Goal Parser that can interpret a string command. The command consists of an alphabet of \"G\", \"()\" and/or \"(al)\" in some order. The Goal Parser will interpret \"G\" as the string \"G\", \"()\" as the string \"o\", and \"(al)\" as the string \"al\". The interpreted strings are then concatenated in the original order."
      ]
    },
    {
      "cell_type": "code",
      "metadata": {
        "id": "DNQ_JJ3exZsH"
      },
      "source": [
        "def RepStr(string):\n",
        "  string = string.replace(\"G\",\"G\")\n",
        "  string = string.replace(\"()\",\"o\")\n",
        "  string = string.replace(\"(al)\",\"al\")\n",
        "  return string"
      ],
      "execution_count": 61,
      "outputs": []
    },
    {
      "cell_type": "code",
      "metadata": {
        "id": "w9FNgM8VykGT",
        "outputId": "d50e116b-4f6a-4969-a031-3377475b6486",
        "colab": {
          "base_uri": "https://localhost:8080/",
          "height": 35
        }
      },
      "source": [
        "RepStr(\"G()(al)\")"
      ],
      "execution_count": 62,
      "outputs": [
        {
          "output_type": "execute_result",
          "data": {
            "application/vnd.google.colaboratory.intrinsic+json": {
              "type": "string"
            },
            "text/plain": [
              "'Goal'"
            ]
          },
          "metadata": {
            "tags": []
          },
          "execution_count": 62
        }
      ]
    },
    {
      "cell_type": "code",
      "metadata": {
        "id": "RLfEa3Wry6fF",
        "outputId": "0d83b1a5-1007-46de-b46c-0871a114d3ac",
        "colab": {
          "base_uri": "https://localhost:8080/",
          "height": 35
        }
      },
      "source": [
        "RepStr(\"(al)G(al)()()G\")"
      ],
      "execution_count": 63,
      "outputs": [
        {
          "output_type": "execute_result",
          "data": {
            "application/vnd.google.colaboratory.intrinsic+json": {
              "type": "string"
            },
            "text/plain": [
              "'alGalooG'"
            ]
          },
          "metadata": {
            "tags": []
          },
          "execution_count": 63
        }
      ]
    },
    {
      "cell_type": "code",
      "metadata": {
        "id": "Sc0f5MlNzCEL",
        "outputId": "604bcaf5-a4e1-4a77-b366-c93ffb3cf5b3",
        "colab": {
          "base_uri": "https://localhost:8080/",
          "height": 35
        }
      },
      "source": [
        "RepStr(\"G()()()()(al)\")"
      ],
      "execution_count": 64,
      "outputs": [
        {
          "output_type": "execute_result",
          "data": {
            "application/vnd.google.colaboratory.intrinsic+json": {
              "type": "string"
            },
            "text/plain": [
              "'Gooooal'"
            ]
          },
          "metadata": {
            "tags": []
          },
          "execution_count": 64
        }
      ]
    }
  ]
}